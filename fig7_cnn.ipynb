{
 "cells": [
  {
   "cell_type": "markdown",
   "metadata": {},
   "source": [
    "this notebook tries to reproduce the CNN part of Fig. 7 in the paper, based on <https://github.com/leelabcnbc/tang_jcompneuro_revision/blob/master/results_ipynb/plots/main/demo_fitted_neurons.ipynb>\n",
    "\n",
    "\n",
    "# data preprocessing.\n",
    "\n",
    "raw data are saved under `results/datasets/`\n",
    "\n",
    "* `tang_stimulus.hdf5` pattern stimuli.\n",
    "* `MonkeyA.hdf5` mean responses for Monkey A.\n",
    "* `MonkeyE2.hdf5` mean responses for Monkey B.\n",
    "\n",
    "CNN training needs the data split into training, validation, and testing data, and the script `split_datasets.py` has already been run to generate ready-to-use data for this notebook. The split data are saved in `results/datasets/split_data.hdf5`."
   ]
  },
  {
   "cell_type": "code",
   "execution_count": 1,
   "metadata": {},
   "outputs": [],
   "source": [
    "%matplotlib inline\n",
    "import numpy as np\n",
    "import h5py\n",
    "import os.path\n",
    "import os\n",
    "from collections import OrderedDict\n",
    "import matplotlib.pyplot as plt\n",
    "import h5py\n",
    "import time"
   ]
  },
  {
   "cell_type": "code",
   "execution_count": 2,
   "metadata": {},
   "outputs": [],
   "source": [
    "from torchvision.utils import make_grid\n",
    "from torch import FloatTensor"
   ]
  },
  {
   "cell_type": "code",
   "execution_count": 3,
   "metadata": {},
   "outputs": [],
   "source": [
    "from tang_jcompneuro.io import load_image_dataset, load_neural_dataset, load_split_dataset"
   ]
  },
  {
   "cell_type": "code",
   "execution_count": 4,
   "metadata": {},
   "outputs": [],
   "source": [
    "_get_all_data_cache = dict()\n",
    "def get_all_data():\n",
    "    if 'X' not in _get_all_data_cache:\n",
    "        _get_all_data_cache['X'] = load_image_dataset('Shape_9500', normalize_cnn_format=True)\n",
    "    if 'y' not in _get_all_data_cache:\n",
    "        _get_all_data_cache['y'] = load_neural_dataset('MkA_Shape',return_positive=True)\n",
    "    X, y = _get_all_data_cache['X'], _get_all_data_cache['y']\n",
    "    assert X.shape == (9500,1,40,40)\n",
    "    assert y.shape == (9500,1142)\n",
    "    return X, y"
   ]
  },
  {
   "cell_type": "code",
   "execution_count": 5,
   "metadata": {},
   "outputs": [],
   "source": [
    "def show_top_stimuli(neuron_idx_this):\n",
    "    # load actual neuron response\n",
    "    actual_response_this_ALL = get_all_data()[1][:, neuron_idx_this]\n",
    "    assert actual_response_this_ALL.shape == (9500,)\n",
    "    actual_response_sort_idx_ALL = np.argsort(actual_response_this_ALL)[::-1]\n",
    "    # show top 20 stimuli, 10 x 2.\n",
    "    X_top_this_ALL = get_all_data()[0][actual_response_sort_idx_ALL[:20]]\n",
    "\n",
    "    # use torchvision to get a 10 x 2 grid and show it.\n",
    "    X_top_this_ALL = make_grid(FloatTensor(X_top_this_ALL)[:20], nrow=10, normalize=False, scale_each=False)\n",
    "    X_top_this_ALL = np.transpose(X_top_this_ALL.numpy(), (1, 2, 0))\n",
    "    plt.close('all')\n",
    "    plt.imshow(X_top_this_ALL)\n",
    "    plt.show()"
   ]
  },
  {
   "cell_type": "code",
   "execution_count": 6,
   "metadata": {},
   "outputs": [],
   "source": [
    "# these are the indices of example neurons in Fig. 7.\n",
    "cnn_training_map = {\n",
    "    'OT': 578,  # orientation\n",
    "    'CV': 553,  # curvature\n",
    "    'CN': 459,  # corner\n",
    "    'CRS': 1079, # cross\n",
    "    'Other': 4, # composition\n",
    "}\n"
   ]
  },
  {
   "cell_type": "code",
   "execution_count": 7,
   "metadata": {},
   "outputs": [],
   "source": [
    "# change it for other neurons.\n",
    "neuron_to_work_on = cnn_training_map['CN']"
   ]
  },
  {
   "cell_type": "code",
   "execution_count": 8,
   "metadata": {},
   "outputs": [
    {
     "data": {
      "image/png": "[encoded data removed]",
      "text/plain": [
       "<matplotlib.figure.Figure at 0x2b1fa4897898>"
      ]
     },
     "metadata": {},
     "output_type": "display_data"
    }
   ],
   "source": [
    "show_top_stimuli(neuron_to_work_on)"
   ]
  },
  {
   "cell_type": "code",
   "execution_count": 9,
   "metadata": {},
   "outputs": [],
   "source": [
    "from tang_jcompneuro.cnn import CNN"
   ]
  },
  {
   "cell_type": "code",
   "execution_count": 10,
   "metadata": {},
   "outputs": [],
   "source": [
    "from tang_jcompneuro.model_fitting_cnn import (opt_configs_to_explore, models_to_train,\n",
    "                                               init_config_to_use_fn, train_one_case)"
   ]
  },
  {
   "cell_type": "code",
   "execution_count": 11,
   "metadata": {
    "scrolled": true
   },
   "outputs": [
    {
     "data": {
      "text/plain": [
       "odict_keys(['1e-3L2_1e-3L2_sgd_mse', '1e-3L2_1e-3L2_adam002_mse', '1e-4L2_1e-3L2_sgd_mse', '1e-4L2_1e-3L2_adam002_mse'])"
      ]
     },
     "execution_count": 11,
     "metadata": {},
     "output_type": "execute_result"
    }
   ],
   "source": [
    "opt_configs_to_explore.keys()\n",
    "# you can select one optimization hyperparameter set out of 4.\n",
    "# in the paper, we choose the one with highest validation performance for final testing."
   ]
  },
  {
   "cell_type": "code",
   "execution_count": 12,
   "metadata": {},
   "outputs": [],
   "source": [
    "def imshow_inner(npimg, figsize=(8, 6), save_name=None):\n",
    "    plt.close('all')\n",
    "    plt.figure(figsize=figsize)\n",
    "    img_to_show = np.transpose(npimg.numpy(), (1, 2, 0))\n",
    "    plt.imshow(img_to_show)\n",
    "    \n",
    "    if save_name is not None:\n",
    "        imsave(save_name, img_to_show)\n",
    "    \n",
    "    plt.show()"
   ]
  },
  {
   "cell_type": "code",
   "execution_count": 13,
   "metadata": {},
   "outputs": [],
   "source": [
    "def train_one_model(neuron_idx, opt_config_to_use = '1e-3L2_1e-3L2_sgd_mse',\n",
    "                   num_channel=4):\n",
    "    # change num_channel to 9 for 9 channel CNN, etc.\n",
    "    # print `models_to_train` for more options.\n",
    "    arch_config = models_to_train[f'b.{num_channel}']\n",
    "    \n",
    "    # load datasets splitted in train/val/test.\n",
    "    \n",
    "    datasets_local = load_split_dataset('MkA_Shape', 'all', True, neuron_idx)\n",
    "    \n",
    "    # init CNN.\n",
    "    model = CNN(arch_config, init_config_to_use_fn(), mean_response=datasets_local[1].mean(axis=0),\n",
    "                seed=0,\n",
    "                input_size=20,\n",
    "                )\n",
    "    \n",
    "    t1 = time.time()\n",
    "    # train.\n",
    "    y_val_cc, y_test_hat, new_cc = train_one_case(model, datasets_local,\n",
    "                                                  opt_configs_to_explore[opt_config_to_use],\n",
    "                                                  seed=2, show_every=1000,\n",
    "                                                  return_val_perf=True,\n",
    "                                                  max_epoch=20000)\n",
    "    t2 = time.time()\n",
    "    print(t2-t1, 'sec')\n",
    "    print('corr', new_cc)\n",
    "    \n",
    "     \n",
    "    # get params.\n",
    "    kernels = None\n",
    "    fc_weights = None\n",
    "    for param_name, param_val in model.named_parameters():\n",
    "        if param_name == 'conv.conv0.weight':\n",
    "            kernels = param_val.data.numpy()\n",
    "        if param_name == 'fc.fc.weight':\n",
    "            fc_weights = param_val.data.numpy()\n",
    "\n",
    "    fc_weights_per_kernel = (fc_weights**2).reshape(num_channel,4,4).sum(axis=(1,2))\n",
    "    # first is channel.\n",
    "    assert fc_weights_per_kernel.shape == (num_channel,) and np.all(fc_weights_per_kernel>=0)\n",
    "    del model\n",
    "    \n",
    "    # per kernel, weighted.\n",
    "    imshow_inner(make_grid(FloatTensor(kernels*fc_weights_per_kernel[:,np.newaxis,np.newaxis,np.newaxis]),\n",
    "                          normalize=True, scale_each=False))\n",
    "    \n",
    "    \n",
    "    # show tuning curve for test.\n",
    "    x_axis_range = np.arange(1900)\n",
    "    y_test = datasets_local[3]\n",
    "    assert y_test.shape == y_test_hat.shape == (1900,1)\n",
    "    y_all_test_this_sortidx = np.argsort(y_test.ravel())[::-1]\n",
    "    \n",
    "    plt.close('all')\n",
    "    fig, ax_this = plt.subplots(1,1,squeeze=1)\n",
    "    \n",
    "    ax_this.plot(x_axis_range, y_test.ravel()[y_all_test_this_sortidx], label='raw')\n",
    "    ax_this.plot(x_axis_range, y_test_hat.ravel()[y_all_test_this_sortidx], label=f'CNN b.{num_channel}')\n",
    "    ax_this.legend(loc='upper right')\n",
    "    ax_this.set_xlim(0, 300)\n",
    "    ax_this.set_ylabel('response')\n",
    "    \n",
    "    plt.show()"
   ]
  },
  {
   "cell_type": "code",
   "execution_count": 14,
   "metadata": {
    "scrolled": false
   },
   "outputs": [
    {
     "name": "stdout",
     "output_type": "stream",
     "text": [
      "========starting phase 1/1==========\n",
      "========starting epoch 1000==========\n",
      "val metric\n",
      " {'neg_corr': -0.82932395, 'corr': 0.82932395, 'mse': 0.0048907576}\n",
      "test metric\n",
      " {'neg_corr': -0.8033275, 'corr': 0.8033275, 'mse': 0.0050070109}\n",
      "========done epoch 1000==========\n",
      "========starting epoch 2000==========\n",
      "val metric\n",
      " {'neg_corr': -0.83566302, 'corr': 0.83566302, 'mse': 0.004607569}\n",
      "test metric\n",
      " {'neg_corr': -0.80348653, 'corr': 0.80348653, 'mse': 0.004908815}\n",
      "========done epoch 2000==========\n",
      "========starting epoch 3000==========\n",
      "val metric\n",
      " {'neg_corr': -0.82486397, 'corr': 0.82486397, 'mse': 0.0054574301}\n",
      "test metric\n",
      " {'neg_corr': -0.78552806, 'corr': 0.78552806, 'mse': 0.0055761309}\n",
      "========done epoch 3000==========\n",
      "early stopping after epoch 3000\n",
      "========end phase 1/1==========\n",
      "15.68557357788086 sec\n",
      "corr 0.803487\n"
     ]
    },
    {
     "data": {
      "image/png": "[encoded data removed]",
      "text/plain": [
       "<matplotlib.figure.Figure at 0x2b1f98e60be0>"
      ]
     },
     "metadata": {},
     "output_type": "display_data"
    },
    {
     "data": {
      "image/png": "[encoded data removed]",
      "text/plain": [
       "<matplotlib.figure.Figure at 0x2b2024018470>"
      ]
     },
     "metadata": {},
     "output_type": "display_data"
    }
   ],
   "source": [
    "train_one_model(neuron_to_work_on)"
   ]
  }
 ],
 "metadata": {
  "kernelspec": {
   "display_name": "Python 3",
   "language": "python",
   "name": "python3"
  },
  "language_info": {
   "codemirror_mode": {
    "name": "ipython",
    "version": 3
   },
   "file_extension": ".py",
   "mimetype": "text/x-python",
   "name": "python",
   "nbconvert_exporter": "python",
   "pygments_lexer": "ipython3",
   "version": "3.6.5"
  }
 },
 "nbformat": 4,
 "nbformat_minor": 2
}
