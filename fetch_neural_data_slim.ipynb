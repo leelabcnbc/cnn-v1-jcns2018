{
 "cells": [
  {
   "cell_type": "markdown",
   "metadata": {},
   "source": [
    "get relevant neural data from original repo. not to be used by the public."
   ]
  },
  {
   "cell_type": "code",
   "execution_count": 1,
   "metadata": {},
   "outputs": [],
   "source": [
    "import os\n",
    "import h5py"
   ]
  },
  {
   "cell_type": "code",
   "execution_count": 2,
   "metadata": {},
   "outputs": [],
   "source": [
    "data_filename = 'tang_neural_data.hdf5'\n",
    "datasets_to_get = (\n",
    "    'monkeyA/Shape_9500/corrected_20160313/mean',\n",
    "    'monkeyE2/Shape_4605/2017/mean'\n",
    ")"
   ]
  },
  {
   "cell_type": "code",
   "execution_count": 3,
   "metadata": {},
   "outputs": [],
   "source": [
    "\n",
    "def get_old_data():\n",
    "    data_dict = dict()\n",
    "    with h5py.File(os.path.join('/home/yimengzh/data2/tang_jcompneuro_revision/results/datasets',\n",
    "                           data_filename), 'r') as f:\n",
    "        for dataset_to_get in datasets_to_get:\n",
    "            data_dict[dataset_to_get] = f[dataset_to_get][...]\n",
    "    return data_dict\n",
    "\n",
    "old_data_dict = get_old_data()"
   ]
  },
  {
   "cell_type": "code",
   "execution_count": 4,
   "metadata": {},
   "outputs": [
    {
     "name": "stdout",
     "output_type": "stream",
     "text": [
      "save monkeyA/Shape_9500/corrected_20160313/mean\n",
      "save monkeyE2/Shape_4605/2017/mean\n"
     ]
    }
   ],
   "source": [
    "def save_new_data(data_dict):\n",
    "    data_dir = 'results/datasets'\n",
    "    os.makedirs(data_dir, exist_ok=True)\n",
    "#     with h5py.File(os.path.join(data_dir, data_filename)) as f:\n",
    "        # I need to save them to separate files so that GitHub can allow them.\n",
    "    for dataset_to_get in datasets_to_get:\n",
    "        filename_this = dataset_to_get.split('/')[0] + '.hdf5'\n",
    "        with h5py.File(os.path.join(data_dir, filename_this)) as f:\n",
    "            if dataset_to_get not in f:\n",
    "                print(f'save {dataset_to_get}')\n",
    "                f.create_dataset(name=dataset_to_get, data=data_dict[dataset_to_get],compression='gzip',\n",
    "                                 compression_opts=9)\n",
    "save_new_data(old_data_dict)"
   ]
  }
 ],
 "metadata": {
  "kernelspec": {
   "display_name": "Python 3",
   "language": "python",
   "name": "python3"
  },
  "language_info": {
   "codemirror_mode": {
    "name": "ipython",
    "version": 3
   },
   "file_extension": ".py",
   "mimetype": "text/x-python",
   "name": "python",
   "nbconvert_exporter": "python",
   "pygments_lexer": "ipython3",
   "version": "3.6.5"
  }
 },
 "nbformat": 4,
 "nbformat_minor": 2
}
